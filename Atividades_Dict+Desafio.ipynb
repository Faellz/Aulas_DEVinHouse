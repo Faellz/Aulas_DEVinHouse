{
  "nbformat": 4,
  "nbformat_minor": 0,
  "metadata": {
    "colab": {
      "provenance": [],
      "authorship_tag": "ABX9TyP/O/xMLmUuDTCKwoInH/gR",
      "include_colab_link": true
    },
    "kernelspec": {
      "name": "python3",
      "display_name": "Python 3"
    },
    "language_info": {
      "name": "python"
    }
  },
  "cells": [
    {
      "cell_type": "markdown",
      "metadata": {
        "id": "view-in-github",
        "colab_type": "text"
      },
      "source": [
        "<a href=\"https://colab.research.google.com/github/Faellz/Aulas_DEVinHouse/blob/main/Atividades_Dict%2BDesafio.ipynb\" target=\"_parent\"><img src=\"https://colab.research.google.com/assets/colab-badge.svg\" alt=\"Open In Colab\"/></a>"
      ]
    },
    {
      "cell_type": "markdown",
      "source": [
        "Crie um dicionário chamado aluno com as seguintes informações:\n",
        "\n",
        "Nome: \"João\" Idade: 20 Curso: \"Engenharia\"\n",
        "Em seguida: Exiba o dicionário original. Apique o método clear() no dicionário. Mostre o dicionário novamente."
      ],
      "metadata": {
        "id": "AnidepewG6io"
      }
    },
    {
      "cell_type": "code",
      "source": [
        "aluno = { \"nome\" : \"João\",\n",
        "         \"idade\" : 20,\n",
        "          \"curso\" : \"Engenharia\"\n",
        "}\n",
        "print(aluno)\n",
        "aluno.clear()\n",
        "print(aluno)"
      ],
      "metadata": {
        "colab": {
          "base_uri": "https://localhost:8080/"
        },
        "id": "JlKDigrAG8zB",
        "outputId": "424eacd4-a280-49df-dfcd-2334d704600d"
      },
      "execution_count": 1,
      "outputs": [
        {
          "output_type": "stream",
          "name": "stdout",
          "text": [
            "{'nome': 'João', 'idade': 20, 'curso': 'Engenharia'}\n",
            "{}\n"
          ]
        }
      ]
    },
    {
      "cell_type": "markdown",
      "source": [
        "1 - Crie um dicionário chamado produto com os dados:\n",
        "\n",
        "nome: \"Caneta\"\n",
        "preço: 2.50\n",
        "\n",
        "2 - Depois:\n",
        "Faça uma cópia do dicionário chamada produto_promocao.\n",
        "Altere o valor da chave preço em produto_promocao para 1.99.\n",
        "Mostre os dois dicionários para comparar.\n"
      ],
      "metadata": {
        "id": "n-z6hq0HHr1e"
      }
    },
    {
      "cell_type": "code",
      "source": [
        "produto = {\n",
        "    \"nome\" : \"Caneta\",\n",
        "    \"preço\" : 2.50\n",
        "}\n",
        "# print(produto)\n",
        "produto_promocao = produto.copy()\n",
        "produto_promocao[\"preço\"] = 1.99\n",
        "print(produto, \"depois da promoção >\", produto_promocao)"
      ],
      "metadata": {
        "colab": {
          "base_uri": "https://localhost:8080/"
        },
        "id": "Pj0qrRhSH2k4",
        "outputId": "00b459f8-bb32-45b2-c13c-df6e6d5a2f9a"
      },
      "execution_count": 5,
      "outputs": [
        {
          "output_type": "stream",
          "name": "stdout",
          "text": [
            "{'nome': 'Caneta', 'preço': 2.5} depois da promoção > {'nome': 'Caneta', 'preço': 1.99}\n"
          ]
        }
      ]
    },
    {
      "cell_type": "markdown",
      "source": [
        "1 - Crie um dicionário chamado produto com os dados:\n",
        "\n",
        "título: \"Python para Iniciantes\"\n",
        "autor: \"Carlos Silva\"\n",
        "ano: 2025\n",
        "\n",
        "Use um laço for com items() para exibir cada chave e seu respectivo valor no formato:"
      ],
      "metadata": {
        "id": "FmjmkKXYIzYX"
      }
    },
    {
      "cell_type": "code",
      "source": [
        "produto = {\n",
        "    \"titulo\" : \"Python para iniciantes\",\n",
        "    \"autor\" : \"Carlos Silva\",\n",
        "    \"ano\" : 2025\n",
        "}\n",
        "for chave, valor in produto.items():\n",
        "  print(f\"{chave} : {valor}\")\n"
      ],
      "metadata": {
        "colab": {
          "base_uri": "https://localhost:8080/"
        },
        "id": "-bMfMl77I_Sa",
        "outputId": "83437b11-8ac8-4de2-9e50-c2298a6ff47b"
      },
      "execution_count": 6,
      "outputs": [
        {
          "output_type": "stream",
          "name": "stdout",
          "text": [
            "titulo : Python para iniciantes\n",
            "autor : Carlos Silva\n",
            "ano : 2025\n"
          ]
        }
      ]
    },
    {
      "cell_type": "markdown",
      "source": [
        "Crie um dicionário chamado aluno com os dados\n",
        "\n",
        "nome: \"Maria\"\n",
        "nota: 8.7\n",
        "\n",
        "Mostre todas as chaves do dicionário usando keys().\n",
        "Pergunte ao usuário via input() qual chave ele quer verificar.\n",
        "Mostre uma mensagem dizendo se a chave existe ou não no dicionário.\n",
        "\n"
      ],
      "metadata": {
        "id": "72gUWVYHJnf9"
      }
    },
    {
      "cell_type": "code",
      "source": [
        "aluno = {\n",
        "    \"nome\" : \"Maria\",\n",
        "    \"nota\" : 8.7\n",
        "}\n",
        "\n",
        "print(aluno.keys())\n",
        "chave = input(\"Gostaria de verificar qual chave ? \")\n",
        "if chave in aluno:\n",
        "    print(f\"A chave '{chave}' existe no dicionário!\")\n",
        "else:\n",
        "    print(f\"A chave '{chave}' não existe.\")"
      ],
      "metadata": {
        "colab": {
          "base_uri": "https://localhost:8080/"
        },
        "id": "7pBQFO1vJr-X",
        "outputId": "46c40774-eb72-4699-cd09-9d642167f6a4"
      },
      "execution_count": 8,
      "outputs": [
        {
          "output_type": "stream",
          "name": "stdout",
          "text": [
            "dict_keys(['nome', 'nota'])\n",
            "Gostaria de verificar qual chave ? nome\n",
            "A chave 'nome' existe no dicionário!\n"
          ]
        }
      ]
    },
    {
      "cell_type": "markdown",
      "source": [
        "1 - Crie um dicionário chamado agenda com os seguintes contatos:\n",
        "```\n",
        "agenda = {\n",
        "    \"Carlos\": \"9999-1234\",\n",
        "    \"Ana\": \"9888-4321\",\n",
        "    \"Pedro\": \"9777-5678\"\n",
        "}\n",
        "```\n",
        "\n",
        "2 - Crie uma cópia chamada backup_agenda.\n",
        "Esvazie o dicionário agenda usando clear().\n",
        "Mostre o conteúdo de ambos os dicionários.\n"
      ],
      "metadata": {
        "id": "tGBxh09VK1sd"
      }
    },
    {
      "cell_type": "code",
      "source": [
        "agenda = {\n",
        "    \"Carlos\": \"9999-1234\",\n",
        "    \"Ana\": \"9888-4321\",\n",
        "    \"Pedro\": \"9777-5678\"\n",
        "}\n",
        "backup_agenda = agenda.copy()\n",
        "agenda.clear()\n",
        "print(backup_agenda,\"Depois do clear >\", agenda)"
      ],
      "metadata": {
        "colab": {
          "base_uri": "https://localhost:8080/"
        },
        "id": "wmtYgIAOLKzx",
        "outputId": "4bfe9b4e-5d31-4e3c-a6ad-f58ca5bdbe23"
      },
      "execution_count": 11,
      "outputs": [
        {
          "output_type": "stream",
          "name": "stdout",
          "text": [
            "{'Carlos': '9999-1234', 'Ana': '9888-4321', 'Pedro': '9777-5678'} Depois do clear > {}\n"
          ]
        }
      ]
    }
  ]
}