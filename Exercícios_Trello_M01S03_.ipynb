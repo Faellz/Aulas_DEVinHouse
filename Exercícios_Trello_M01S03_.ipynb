{
  "nbformat": 4,
  "nbformat_minor": 0,
  "metadata": {
    "colab": {
      "provenance": [],
      "authorship_tag": "ABX9TyN2sDXdxoZC8OiGj1rC3Gt7",
      "include_colab_link": true
    },
    "kernelspec": {
      "name": "python3",
      "display_name": "Python 3"
    },
    "language_info": {
      "name": "python"
    }
  },
  "cells": [
    {
      "cell_type": "markdown",
      "metadata": {
        "id": "view-in-github",
        "colab_type": "text"
      },
      "source": [
        "<a href=\"https://colab.research.google.com/github/Faellz/Aulas_DEVinHouse/blob/main/Exerc%C3%ADcios_Trello_M01S03_.ipynb\" target=\"_parent\"><img src=\"https://colab.research.google.com/assets/colab-badge.svg\" alt=\"Open In Colab\"/></a>"
      ]
    },
    {
      "cell_type": "markdown",
      "source": [
        "Receba uma lista com números repetidos e remova as duplicatas usando set(). Exiba a lista original e a lista sem repetições.\n",
        "\n"
      ],
      "metadata": {
        "id": "g-ruWQ4nJqq3"
      }
    },
    {
      "cell_type": "code",
      "source": [
        "lista_original = []\n",
        "for _ in range(5):\n",
        "  numeros = int(input(\"Digite alguns números: \"))\n",
        "  lista_original.append(numeros)\n",
        "print(f\"Esta é a lista original: {lista_original}\")\n",
        "set_lista = set(lista_original)\n",
        "print(f\"Esta é a lista sem repetições: {set_lista}\")"
      ],
      "metadata": {
        "colab": {
          "base_uri": "https://localhost:8080/"
        },
        "id": "_cejXxdlJs__",
        "outputId": "6b71f046-af05-4fa1-95f0-36a2185c9404"
      },
      "execution_count": 1,
      "outputs": [
        {
          "output_type": "stream",
          "name": "stdout",
          "text": [
            "Digite alguns números: 1\n",
            "Digite alguns números: 2\n",
            "Digite alguns números: 2\n",
            "Digite alguns números: 3\n",
            "Digite alguns números: 4\n",
            "Esta é a lista original: [1, 2, 2, 3, 4]\n",
            "Esta é a lista sem repetições: {1, 2, 3, 4}\n"
          ]
        }
      ]
    },
    {
      "cell_type": "markdown",
      "source": [
        "Crie um dicionário onde as chaves são nomes de alunos e os valores são listas com 3 notas. Calcule a média de cada aluno e exiba os aprovados (média ≥ 7)."
      ],
      "metadata": {
        "id": "y0fLUQBZEi4G"
      }
    },
    {
      "cell_type": "code",
      "source": [
        "turma = {\n",
        "    \"Rafael\" : [9.0, 7.5, 10.0],\n",
        "    \"Daniela\" : [7.0, 9.5, 8.0],\n",
        "    \"Pedro\" : [6.0, 5.0, 8.5]\n",
        "}\n",
        "for nome, notas in turma.items():\n",
        "    media = sum(notas) / len(notas)\n",
        "    if media >= 7:\n",
        "      print(f\"Aluno aprovado: {nome}\")\n"
      ],
      "metadata": {
        "colab": {
          "base_uri": "https://localhost:8080/"
        },
        "id": "D95mzAKAEjOs",
        "outputId": "4760263e-24e4-41eb-adef-9cee47c0fbd3"
      },
      "execution_count": null,
      "outputs": [
        {
          "output_type": "stream",
          "name": "stdout",
          "text": [
            "Aluno aprovado: Rafael\n",
            "Aluno aprovado: Daniela\n"
          ]
        }
      ]
    },
    {
      "cell_type": "markdown",
      "source": [
        "Crie uma tupla com 5 elementos. Tente alterar um dos elementos e explique o erro que ocorre. Use comentários no código para justificar"
      ],
      "metadata": {
        "id": "RyNo0mdtBJS5"
      }
    },
    {
      "cell_type": "code",
      "execution_count": null,
      "metadata": {
        "colab": {
          "base_uri": "https://localhost:8080/"
        },
        "id": "Nu0pIVDVBBya",
        "outputId": "01b460a3-8f32-47a0-b6e4-8d05a2c9724b"
      },
      "outputs": [
        {
          "output_type": "stream",
          "name": "stdout",
          "text": [
            "O objeto 'tupla' não suporta atribuição de itens!\n"
          ]
        }
      ],
      "source": [
        "# Criando uma tupla com 5 elementos\n",
        "tuple = (1, 2, 3, 4, 5)\n",
        "\n",
        "# Tentativa de alterção de algum elemento\n",
        "try:\n",
        "  tuple[0] = 100\n",
        "  print(tuple)\n",
        "except TypeError:\n",
        "  print(\"O objeto 'tupla' não suporta atribuição de itens!\")\n",
        "\n",
        "# Uma TUPLA é uma estrutura de dados semelhante a uma lista,\n",
        "# mas com a diferença fundamental de ser imutável,\n",
        "# ou seja, seus elementos não podem ser modificados após a criação.\n"
      ]
    }
  ]
}