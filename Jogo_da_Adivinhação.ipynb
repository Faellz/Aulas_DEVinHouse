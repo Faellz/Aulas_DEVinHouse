{
  "nbformat": 4,
  "nbformat_minor": 0,
  "metadata": {
    "colab": {
      "provenance": [],
      "authorship_tag": "ABX9TyM+jPRCzK+VBaJLxsBQBEh2",
      "include_colab_link": true
    },
    "kernelspec": {
      "name": "python3",
      "display_name": "Python 3"
    },
    "language_info": {
      "name": "python"
    }
  },
  "cells": [
    {
      "cell_type": "markdown",
      "metadata": {
        "id": "view-in-github",
        "colab_type": "text"
      },
      "source": [
        "<a href=\"https://colab.research.google.com/github/Faellz/Aulas_DEVinHouse/blob/main/Jogo_da_Adivinha%C3%A7%C3%A3o.ipynb\" target=\"_parent\"><img src=\"https://colab.research.google.com/assets/colab-badge.svg\" alt=\"Open In Colab\"/></a>"
      ]
    },
    {
      "cell_type": "markdown",
      "source": [
        "Crie um jogo onde o computador escolhe um número entre 1 e 100 e o usuário tenta adivinhar. Dê dicas (\"maior\", \"menor\") até acertar. Use random.randint(), while e input()."
      ],
      "metadata": {
        "id": "lr2VdF0qqiAc"
      }
    },
    {
      "cell_type": "markdown",
      "source": [],
      "metadata": {
        "id": "kC6NalrpqeU8"
      }
    },
    {
      "cell_type": "code",
      "execution_count": null,
      "metadata": {
        "colab": {
          "base_uri": "https://localhost:8080/"
        },
        "id": "kj5l4K_iqdjU",
        "outputId": "6d1c782b-522c-46b8-bdcd-afb07d306096"
      },
      "outputs": [
        {
          "output_type": "stream",
          "name": "stdout",
          "text": [
            "Adivinhe o número que foi sorteado !!!\n",
            "Digite seu palpite: 1\n",
            "Um pouco mais...\n",
            "Digite seu palpite: 100\n",
            "Um pouco menos...\n",
            "Digite seu palpite: 50\n",
            "Um pouco mais...\n",
            "Digite seu palpite: 55\n",
            "Um pouco mais...\n",
            "Digite seu palpite: 60\n",
            "Um pouco mais...\n",
            "Digite seu palpite: 70\n",
            "Um pouco menos...\n",
            "Digite seu palpite: 65\n",
            "Um pouco mais...\n",
            "Digite seu palpite: 69\n",
            "Um pouco menos...\n",
            "Digite seu palpite: 68\n",
            "Um pouco menos...\n",
            "Digite seu palpite: 67\n",
            "É Exatamente este número !!!\n"
          ]
        }
      ],
      "source": [
        "# [M1S2] Ex. 3 - Jogo da Adivinhação\n",
        "import random\n",
        "numero_sorteado = random.randint(1, 100)\n",
        "print(\"Adivinhe o número que foi sorteado !!!\")\n",
        "\n",
        "while True:\n",
        "  tentativa = int(input(\"Digite seu palpite: \"))\n",
        "  if tentativa > numero_sorteado:\n",
        "    print(\"Um pouco menos...\")\n",
        "    continue\n",
        "  elif tentativa < numero_sorteado:\n",
        "    print(\"Um pouco mais...\")\n",
        "    continue\n",
        "  else:\n",
        "    print(\"É Exatamente este número !!!\")\n",
        "    break\n",
        "\n",
        "\n"
      ]
    }
  ]
}